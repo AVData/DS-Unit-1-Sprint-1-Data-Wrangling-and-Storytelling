{
  "nbformat": 4,
  "nbformat_minor": 0,
  "metadata": {
    "colab": {
      "name": "Agustin Cody Vargas-LS_DS_114_Make_Explanatory_Visualizations_Assignment.ipynb",
      "provenance": [],
      "collapsed_sections": [],
      "include_colab_link": true
    },
    "language_info": {
      "codemirror_mode": {
        "name": "ipython",
        "version": 3
      },
      "file_extension": ".py",
      "mimetype": "text/x-python",
      "name": "python",
      "nbconvert_exporter": "python",
      "pygments_lexer": "ipython3",
      "version": "3.7.1"
    },
    "kernelspec": {
      "display_name": "Python 3",
      "language": "python",
      "name": "python3"
    }
  },
  "cells": [
    {
      "cell_type": "markdown",
      "metadata": {
        "id": "view-in-github",
        "colab_type": "text"
      },
      "source": [
        "<a href=\"https://colab.research.google.com/github/AVData/DS-Unit-1-Sprint-1-Data-Wrangling-and-Storytelling/blob/master/module4-make-exploratory-visualizations/Agustin_Cody_Vargas_LS_DS_114_Make_Explanatory_Visualizations_Assignment.ipynb\" target=\"_parent\"><img src=\"https://colab.research.google.com/assets/colab-badge.svg\" alt=\"Open In Colab\"/></a>"
      ]
    },
    {
      "cell_type": "markdown",
      "metadata": {
        "colab_type": "text",
        "id": "NMEswXWh9mqw"
      },
      "source": [
        "Lambda School Data Science\n",
        "\n",
        "*Unit 1, Sprint 1, Module 4*\n",
        "\n",
        "---\n",
        "\n",
        "# ASSIGNMENT\n",
        "\n",
        "### 1) Replicate the lesson code. I recommend that you [do not copy-paste](https://docs.google.com/document/d/1ubOw9B3Hfip27hF2ZFnW3a3z9xAgrUDRReOEo-FHCVs/edit).\n",
        "\n",
        "Get caught up to where we got our example in class and then try and take things further. How close to \"pixel perfect\" can you make the lecture graph?\n",
        "\n",
        "Once you have something that you're proud of, share your graph in the cohort channel and move on to the second exercise.\n",
        "\n",
        "### 2) Reproduce another example from [FiveThityEight's shared data repository](https://data.fivethirtyeight.com/).\n",
        "\n",
        "**WARNING**: There are a lot of very custom graphs and tables at the above link. I **highly** recommend not trying to reproduce any that look like a table of values or something really different from the graph types that we are already familiar with. Search through the posts until you find a graph type that you are more or less familiar with: histogram, bar chart, stacked bar chart, line chart, [seaborn relplot](https://seaborn.pydata.org/generated/seaborn.relplot.html), etc. Recreating some of the graphics that 538 uses would be a lot easier in Adobe photoshop/illustrator than with matplotlib. \n",
        "\n",
        "- If you put in some time to find a graph that looks \"easy\" to replicate you'll probably find that it's not as easy as you thought. \n",
        "\n",
        "- If you start with a graph that looks hard to replicate you'll probably run up against a brick wall and be disappointed with your afternoon.\n",
        "\n",
        "\n",
        "\n",
        "\n",
        "\n",
        "\n",
        "\n",
        "\n",
        "\n",
        "\n"
      ]
    },
    {
      "cell_type": "code",
      "metadata": {
        "id": "7SY1ZHawyZvz",
        "colab_type": "code",
        "outputId": "f7a5cc8a-22b6-4b6a-833c-3f3f20fe763d",
        "colab": {
          "base_uri": "https://localhost:8080/",
          "height": 355
        }
      },
      "source": [
        "# First let's obtain the original graph that we want to replicate\n",
        "# We want to get as close to this as possible\n",
        "\n",
        "from IPython.display import display, Image\n",
        "\n",
        "url = 'https://fivethirtyeight.com/wp-content/uploads/2017/09/mehtahickey-inconvenient-0830-1.png'\n",
        "example = Image(url=url, width=400)\n",
        "\n",
        "display(example)"
      ],
      "execution_count": 0,
      "outputs": [
        {
          "output_type": "display_data",
          "data": {
            "text/html": [
              "<img src=\"https://fivethirtyeight.com/wp-content/uploads/2017/09/mehtahickey-inconvenient-0830-1.png\" width=\"400\"/>"
            ],
            "text/plain": [
              "<IPython.core.display.Image object>"
            ]
          },
          "metadata": {
            "tags": []
          }
        }
      ]
    },
    {
      "cell_type": "code",
      "metadata": {
        "id": "4l58EBuZkmrM",
        "colab_type": "code",
        "outputId": "92c37d9d-0718-47f3-bd7b-53325e7206b8",
        "colab": {
          "base_uri": "https://localhost:8080/",
          "height": 268
        }
      },
      "source": [
        "# importing the necessry libraries\n",
        "\n",
        "%matplotlib inline\n",
        "import matplotlib.pyplot as plt\n",
        "import numpy as np\n",
        "import pandas as pd\n",
        "\n",
        "# the raw data we will be using\n",
        "\n",
        "fake = pd.Series([38, 3, 2, 1, 2, 4, 6, 5, 5, 33], \n",
        "                 index=range(1, 11))\n",
        "\n",
        "fake.plot.bar(color= 'C1', width=0.9);"
      ],
      "execution_count": 0,
      "outputs": [
        {
          "output_type": "display_data",
          "data": {
            "image/png": "[encoded data removed]",
            "text/plain": [
              "<Figure size 432x288 with 1 Axes>"
            ]
          },
          "metadata": {
            "tags": []
          }
        }
      ]
    },
    {
      "cell_type": "code",
      "metadata": {
        "id": "IP4zWueJlsfn",
        "colab_type": "code",
        "outputId": "d8006ff4-8c96-412a-b24b-7840d229ced6",
        "colab": {
          "base_uri": "https://localhost:8080/",
          "height": 369
        }
      },
      "source": [
        "# replicating the lesson code 'not copy pasting!!'\n",
        "\n",
        "# Set Stylesheet\n",
        "plt.style.use('fivethirtyeight')\n",
        "\n",
        "# using fig axes syntax; this helps us create the fig where the data will be\n",
        "# ploted\n",
        "fig, ax = plt.subplots()\n",
        "\n",
        "# ***fig background color should be transparent (it was made white in the lecture)\n",
        "# leave white for now to see fig clearly, change to 'none' at the end***\n",
        "fig.patch.set_facecolor('none')\n",
        "\n",
        "# Putting bars from the data 'fake'\n",
        "fake.plot.bar(width=0.9, color='#ED713A')\n",
        "\n",
        "# ***Setting axes background color; here we will later have to change it to 'none'***\n",
        "ax.set(facecolor='none')\n",
        "\n",
        "# setting up a title\n",
        "ax.set_title(\"'An Inconvenient Sequel: Truth To Power' is divisive\", fontsize=14.8,\n",
        "             fontweight='medium', x=.38, y=1.14)\n",
        "\n",
        "# Setting the plot y-label\n",
        "ax.set_ylabel('Percent of total votes', fontsize=9, fontweight='bold')\n",
        "\n",
        "# Setting the x-label\n",
        "ax.set_xlabel('Rating', fontsize=9, fontweight='bold', position=(.467, 10))\n",
        "\n",
        "# Setting the subtitle\n",
        "ax.text(s='IMDb ratings for the film as of Aug. 29', y=44.5, x=-1.9,\n",
        "        fontweight='light',\n",
        "         fontsize=12)\n",
        "\n",
        "# Set y axis labels, tick marks and grid lines\n",
        "ax.set_yticklabels(['0 ', '10 ', '20  ', '30  ', '40%'], fontsize=10, color='white')\n",
        "ax.set_yticks(range(0, 50, 10))\n",
        "\n",
        "# Setting up the x axis labels, tick marks and grid lines\n",
        "ax.set_xticklabels(range(1, 11, 1), rotation=0, fontsize=10, color='white',\n",
        "                   fontweight='light')\n",
        "ax.set_xticks(range(0, 11))\n",
        "\n",
        "# Adding major ticks to x and y axes\n",
        "# ax.tick_params(which='major', length=2, width=.8, color='white')\n",
        "\n",
        "\n",
        "# Adding the Source text line; do this as a subtitle\n",
        "ax.text(s='FiveThirtyEight', y=-11.5, x=-1.7, fontsize=7.4, color='white',\n",
        "        fontweight='light')\n",
        "ax.text(s='SOURCE: IMBD', y=-11.5, x=8.14, fontsize=7.4, color='white',\n",
        "        fontweight='light')\n",
        "\n",
        "# fixing gridlines\n",
        "# ax.grid(ls='-', color='white', lw=.6, alpha=1)\n",
        "\n",
        "# adding gridlines\n",
        "ax.text(s='____________________________________________________________________________________',\n",
        "        y=-9, x=-1.7, color='white', fontsize=9.819)\n",
        "\n",
        "# working with the spine\n",
        "ax.spines['bottom'].set_visible(False)\n",
        "ax.spines['right'].set_visible(False)\n",
        "ax.spines['left'].set_visible(False)\n",
        "ax.spines['top'].set_visible(False)\n",
        "\n",
        "# setting the limit\n",
        "ax.set_xlim(-.58, 9.6)\n",
        "ax.set_ylim(-1.9, 40.5)\n",
        "\n",
        "fig.show()"
      ],
      "execution_count": 0,
      "outputs": [
        {
          "output_type": "display_data",
          "data": {
            "image/png": "[encoded data removed]",
            "text/plain": [
              "<Figure size 432x288 with 1 Axes>"
            ]
          },
          "metadata": {
            "tags": []
          }
        }
      ]
    },
    {
      "cell_type": "code",
      "metadata": {
        "id": "VZ-Qr13Bkdsk",
        "colab_type": "code",
        "outputId": "b01d54fe-38d7-4bd9-c2c6-b5b17e74ff82",
        "colab": {
          "base_uri": "https://localhost:8080/",
          "height": 161
        }
      },
      "source": [
        "display(example)"
      ],
      "execution_count": 0,
      "outputs": [
        {
          "output_type": "error",
          "ename": "NameError",
          "evalue": "ignored",
          "traceback": [
            "\u001b[0;31m---------------------------------------------------------------------------\u001b[0m",
            "\u001b[0;31mNameError\u001b[0m                                 Traceback (most recent call last)",
            "\u001b[0;32m<ipython-input-42-c0c4816e6deb>\u001b[0m in \u001b[0;36m<module>\u001b[0;34m()\u001b[0m\n\u001b[0;32m----> 1\u001b[0;31m \u001b[0mdisplay\u001b[0m\u001b[0;34m(\u001b[0m\u001b[0mexample\u001b[0m\u001b[0;34m)\u001b[0m\u001b[0;34m\u001b[0m\u001b[0;34m\u001b[0m\u001b[0m\n\u001b[0m",
            "\u001b[0;31mNameError\u001b[0m: name 'example' is not defined"
          ]
        }
      ]
    },
    {
      "cell_type": "markdown",
      "metadata": {
        "id": "DRE1e0Gkx1si",
        "colab_type": "text"
      },
      "source": [
        "# 2) Reproduce another example from [FiveThityEight's shared data repository](https://data.fivethirtyeight.com/).\n",
        "\n",
        "**WARNING**: There are a lot of very custom graphs and tables at the above link. I **highly** recommend not trying to reproduce any that look like a table of values or something really different from the graph types that we are already familiar with. Search through the posts until you find a graph type that you are more or less familiar with: histogram, bar chart, stacked bar chart, line chart, [seaborn relplot](https://seaborn.pydata.org/generated/seaborn.relplot.html), etc. Recreating some of the graphics that 538 uses would be a lot easier in Adobe photoshop/illustrator than with matplotlib. \n",
        "\n",
        "- If you put in some time to find a graph that looks \"easy\" to replicate you'll probably find that it's not as easy as you thought. \n",
        "\n",
        "- If you start with a graph that looks hard to replicate you'll probably run up against a brick wall and be disappointed with your afternoon."
      ]
    },
    {
      "cell_type": "code",
      "metadata": {
        "id": "cAHfkGdJyFuO",
        "colab_type": "code",
        "colab": {}
      },
      "source": [
        "# Firtst let's look at the graph that we will be attempting to replicate\n",
        "\n",
        "from  IPython.display import display, Image\n",
        "\n",
        "url = 'https://fivethirtyeight.com/wp-content/uploads/2015/05/silver-datalab-fifabreakaway-3.png?w=1150'\n",
        "example2 = Image(url=url, width=400)\n",
        "\n",
        "display(example2)"
      ],
      "execution_count": 0,
      "outputs": []
    },
    {
      "cell_type": "code",
      "metadata": {
        "id": "Axai396e0spo",
        "colab_type": "code",
        "outputId": "24159c52-da21-4879-b4e0-d75d37a99732",
        "colab": {
          "base_uri": "https://localhost:8080/",
          "height": 206
        }
      },
      "source": [
        "# We will be using this line to show that we can simply run display(example2)\n",
        "\n",
        "display(example2)"
      ],
      "execution_count": 0,
      "outputs": [
        {
          "output_type": "display_data",
          "data": {
            "text/html": [
              "<img src=\"https://fivethirtyeight.com/wp-content/uploads/2015/05/silver-datalab-fifabreakaway-3.png?w=1150\" width=\"400\"/>"
            ],
            "text/plain": [
              "<IPython.core.display.Image object>"
            ]
          },
          "metadata": {
            "tags": []
          }
        }
      ]
    },
    {
      "cell_type": "code",
      "metadata": {
        "id": "XhpXC_kt1BHf",
        "colab_type": "code",
        "colab": {}
      },
      "source": [
        "# Let's import the necessary libraries\n",
        "\n",
        "\n",
        "# where does this come from or what does it do exactly? 'matplotlib inline'\n",
        "\n",
        "%matplotlib inline \n",
        "import matplotlib.pyplot as plt\n",
        "import numpy as np\n",
        "import pandas as pd"
      ],
      "execution_count": 0,
      "outputs": []
    },
    {
      "cell_type": "code",
      "metadata": {
        "id": "JwfLEgSX1c1A",
        "colab_type": "code",
        "colab": {}
      },
      "source": [
        "# Consiering the data is not provided we can create our own\n",
        "# Creating the data we will be using pd.Series[]\n",
        "# We need to create and array like index for the data\n",
        "\n",
        "# try with and without () to see if it requires a tuple or not\n",
        "ind_array = ['UEFA (Europe)', 'CONCACAF (N.  AMERICA)', 'AFC (Asia)',\n",
        "              'COMNEBOL (S. America)', 'CAF (Africa)', 'OFC (Oceania)']\n",
        "\n",
        "club_data = pd.Series([563, 67, 57, 37, 12, 0], index=ind_array)"
      ],
      "execution_count": 0,
      "outputs": []
    },
    {
      "cell_type": "code",
      "metadata": {
        "id": "qq_m9C6_77XG",
        "colab_type": "code",
        "outputId": "1490f5da-c43a-4315-fc72-7cb8901fa6bc",
        "colab": {
          "base_uri": "https://localhost:8080/",
          "height": 340
        }
      },
      "source": [
        "# Use fig axes syntax\n",
        "fig, ax2 = plt.subplots()\n",
        "\n",
        "# setting the figure face color to gray\n",
        "fig.patch.set_facecolor('white')\n",
        "\n",
        "# We start with a simple plot, match the bar color and width\n",
        "club_data[::-1].plot.barh(color='green', width=.6)\n",
        "\n",
        "# Set axes background color\n",
        "ax2.set(facecolor='white')\n",
        "\n",
        "# Setting up a title\n",
        "ax2.set_title('Everybody Goes Clubbing In Europe', fontsize=23.03,\n",
        "              fontweight='semibold', x=.115, y=1.218)\n",
        "\n",
        "# setting the subtitle\n",
        "ax2.text(s='2014 World Cup participants by club team confederation', y=6.28,\n",
        "         x=-293, fontweight='light', fontsize=19.08)\n",
        "\n",
        "# axes color and tick marks\n",
        "ax2.set_xticklabels('')\n",
        "ax2.set_xticks(range(0))\n",
        "ax2.set_yticks(range(0, 6))\n",
        "ax2.grid(False)\n",
        "\n",
        "# adding texts to the end of bars\n",
        "ax2.text(s='563 players', y=4.87, x=572)\n",
        "ax2.text(s='67', y=3.87, x=80)\n",
        "ax2.text(s='57', y=2.87, x=68)\n",
        "ax2.text(s='37', y=1.87, x=48)\n",
        "ax2.text(s='12', y=.87, x=25)\n",
        "ax2.text(s='0', y=-.17, x=10)\n",
        "\n",
        "# Setting up spines\n",
        "ax2.spines['bottom'].set_visible(False)\n",
        "ax2.spines['right'].set_visible(False)\n",
        "ax2.spines['left'].set_visible(False)\n",
        "ax2.spines['top'].set_visible(False)\n",
        "\n",
        "# the link to the original image\n",
        "# https://fivethirtyeight.com/wp-content/uploads/2015/05/silver-datalab-fifabreakaway-3.png?w=1150\n",
        "\n",
        "fig.show()"
      ],
      "execution_count": 0,
      "outputs": [
        {
          "output_type": "display_data",
          "data": {
            "image/png": "[encoded data removed]",
            "text/plain": [
              "<Figure size 432x288 with 1 Axes>"
            ]
          },
          "metadata": {
            "tags": []
          }
        }
      ]
    },
    {
      "cell_type": "markdown",
      "metadata": {
        "id": "0wSrBzmJyWaV",
        "colab_type": "text"
      },
      "source": [
        "# STRETCH OPTIONS\n",
        "\n",
        "### 1) Reproduce one of the following using the matplotlib or seaborn libraries:\n",
        "\n",
        "- [thanksgiving-2015](https://fivethirtyeight.com/features/heres-what-your-part-of-america-eats-on-thanksgiving/) \n",
        "- [candy-power-ranking](https://fivethirtyeight.com/features/the-ultimate-halloween-candy-power-ranking/) \n",
        "- or another example of your choice!\n",
        "\n",
        "### 2) Make more charts!\n",
        "\n",
        "Choose a chart you want to make, from [Visual Vocabulary - Vega Edition](http://ft.com/vocabulary).\n",
        "\n",
        "Find the chart in an example gallery of a Python data visualization library:\n",
        "- [Seaborn](http://seaborn.pydata.org/examples/index.html)\n",
        "- [Altair](https://altair-viz.github.io/gallery/index.html)\n",
        "- [Matplotlib](https://matplotlib.org/gallery.html)\n",
        "- [Pandas](https://pandas.pydata.org/pandas-docs/stable/visualization.html)\n",
        "\n",
        "Reproduce the chart. [Optionally, try the \"Ben Franklin Method.\"](https://docs.google.com/document/d/1ubOw9B3Hfip27hF2ZFnW3a3z9xAgrUDRReOEo-FHCVs/edit) If you want, experiment and make changes.\n",
        "\n",
        "Take notes. Consider sharing your work with your cohort!"
      ]
    },
    {
      "cell_type": "code",
      "metadata": {
        "id": "dRJkKftiy5BJ",
        "colab_type": "code",
        "colab": {}
      },
      "source": [
        "# More Work Here"
      ],
      "execution_count": 0,
      "outputs": []
    }
  ]
}